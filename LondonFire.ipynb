{
 "cells": [
  {
   "cell_type": "markdown",
   "metadata": {},
   "source": [
    "# London Fire Brigade Calls"
   ]
  },
  {
   "cell_type": "markdown",
   "metadata": {},
   "source": [
    "This notebook is for exploration of London Fire Brigade data publicly deposited on Kaggle datasets: https://www.kaggle.com/jboysen/london-fire."
   ]
  },
  {
   "cell_type": "markdown",
   "metadata": {},
   "source": [
    "##### Questions for exploration:\n",
    "\n",
    "- distribution of **all calls across boroughs**: \n",
    "   - which boroughs have the highest call volume? lowest?\n",
    "   - [external data] which has most calls *per population*? fewest?\n",
    " \n",
    "- distribution of **all calls over time** (daily, weekly patterns)\n",
    "\n",
    "- investigation of **response times**:\n",
    "    - which boroughs have fastest response time? slowest?\n"
   ]
  },
  {
   "cell_type": "markdown",
   "metadata": {},
   "source": [
    "##### Tasks for visualisation:\n",
    "\n",
    "- On a map of London, visualise:\n",
    "    - density of brigade calls (per borough / per postcode)\n",
    "    - response times\n",
    "    - [external data] population and brigade centres per population / per area"
   ]
  },
  {
   "cell_type": "markdown",
   "metadata": {},
   "source": [
    "### Package dependencies"
   ]
  },
  {
   "cell_type": "code",
   "execution_count": 4,
   "metadata": {},
   "outputs": [
    {
     "name": "stdout",
     "output_type": "stream",
     "text": [
      "Imported Numpy 1.13.1\n",
      "Imported Pandas 0.20.3\n",
      "Imported Matplotlib 2.0.2\n",
      "Imported Datetime\n",
      "Imported Time\n"
     ]
    }
   ],
   "source": [
    "import numpy as np\n",
    "import pandas as pd\n",
    "import datetime\n",
    "import time\n",
    "import matplotlib.pyplot as plt\n",
    "import matplotlib\n",
    "%matplotlib inline \n",
    "\n",
    "print (\"Imported Numpy\" , np.__version__)\n",
    "print (\"Imported Pandas\" , pd.__version__)\n",
    "print (\"Imported Matplotlib\", matplotlib.__version__)\n",
    "print (\"Imported Datetime\")\n",
    "print (\"Imported Time\")"
   ]
  },
  {
   "cell_type": "code",
   "execution_count": 5,
   "metadata": {
    "collapsed": true
   },
   "outputs": [],
   "source": [
    "def columns(df):\n",
    "    for c in df.columns:\n",
    "        print (c)"
   ]
  },
  {
   "cell_type": "markdown",
   "metadata": {},
   "source": [
    "### Data import"
   ]
  },
  {
   "cell_type": "code",
   "execution_count": 23,
   "metadata": {},
   "outputs": [
    {
     "name": "stdout",
     "output_type": "stream",
     "text": [
      "Data imported in 0.22 s\n"
     ]
    }
   ],
   "source": [
    "starttime = time.time()\n",
    "\n",
    "df = pd.read_csv('london_fire_brigade:service_calls.csv')\n",
    "\n",
    "stoptime = time.time()\n",
    "print(\"Data imported in %.2f s\" %(stoptime - starttime))\n"
   ]
  },
  {
   "cell_type": "code",
   "execution_count": 24,
   "metadata": {
    "scrolled": true
   },
   "outputs": [
    {
     "name": "stdout",
     "output_type": "stream",
     "text": [
      "address_qualifier\n",
      "borough_code\n",
      "borough_name\n",
      "cal_year\n",
      "date_of_call\n",
      "easting_m\n",
      "easting_rounded\n",
      "first_pump_arriving_attendance_time\n",
      "first_pump_arriving_deployed_from_station\n",
      "frs\n",
      "hour_of_call\n",
      "incident_group\n",
      "incident_number\n",
      "incident_station_ground\n",
      "northing_m\n",
      "northing_rounded\n",
      "num_pumps_attending\n",
      "num_stations_with_pumps_attending\n",
      "postcode_district\n",
      "postcode_full\n",
      "proper_case\n",
      "property_category\n",
      "property_type\n",
      "second_pump_arriving_attendance_time\n",
      "second_pump_arriving_deployed_from_station\n",
      "special_service_type\n",
      "stop_code_description\n",
      "time_of_call\n",
      "timestamp_of_call\n",
      "ward_code\n",
      "ward_name\n",
      "ward_name_new\n"
     ]
    }
   ],
   "source": [
    "df = df.sort_values('date_of_call')\n",
    "\n",
    "columns(df)"
   ]
  },
  {
   "cell_type": "markdown",
   "metadata": {},
   "source": [
    "### Data exploration"
   ]
  },
  {
   "cell_type": "markdown",
   "metadata": {},
   "source": [
    "#### Call volume by borough"
   ]
  },
  {
   "cell_type": "code",
   "execution_count": 25,
   "metadata": {
    "scrolled": true
   },
   "outputs": [
    {
     "data": {
      "text/plain": [
       "borough_name\n",
       "WESTMINSTER               2469\n",
       "CAMDEN                    1500\n",
       "SOUTHWARK                 1435\n",
       "LAMBETH                   1383\n",
       "TOWER HAMLETS             1330\n",
       "HACKNEY                   1177\n",
       "CROYDON                   1174\n",
       "LEWISHAM                  1097\n",
       "EALING                    1054\n",
       "NEWHAM                    1053\n",
       "BARNET                    1049\n",
       "WANDSWORTH                1036\n",
       "HILLINGDON                1024\n",
       "ISLINGTON                 1019\n",
       "GREENWICH                 1017\n",
       "ENFIELD                    996\n",
       "BRENT                      988\n",
       "KENSINGTON AND CHELSEA     988\n",
       "BROMLEY                    893\n",
       "HAMMERSMITH AND FULHAM     893\n",
       "HARINGEY                   879\n",
       "WALTHAM FOREST             867\n",
       "HOUNSLOW                   845\n",
       "HAVERING                   723\n",
       "REDBRIDGE                  709\n",
       "BEXLEY                     666\n",
       "BARKING AND DAGENHAM       659\n",
       "MERTON                     621\n",
       "RICHMOND UPON THAMES       569\n",
       "HARROW                     555\n",
       "SUTTON                     538\n",
       "KINGSTON UPON THAMES       496\n",
       "CITY OF LONDON             367\n",
       "NOT GEO-CODED              178\n",
       "Name: date_of_call, dtype: int64"
      ]
     },
     "execution_count": 25,
     "metadata": {},
     "output_type": "execute_result"
    }
   ],
   "source": [
    "gr_calls_by_borough = df.groupby('borough_name')\n",
    "calls_by_borough = gr_calls_by_borough.count()['date_of_call'].sort_values(ascending = False)\n",
    "\n",
    "calls_by_borough"
   ]
  },
  {
   "cell_type": "markdown",
   "metadata": {},
   "source": [
    "#### Response time by borough"
   ]
  },
  {
   "cell_type": "code",
   "execution_count": 26,
   "metadata": {
    "scrolled": true
   },
   "outputs": [
    {
     "data": {
      "text/plain": [
       "borough_name\n",
       "NOT GEO-CODED             585.444444\n",
       "HILLINGDON                373.313253\n",
       "BROMLEY                   364.326721\n",
       "ENFIELD                   360.737619\n",
       "HARROW                    358.102421\n",
       "REDBRIDGE                 352.067153\n",
       "BEXLEY                    350.549536\n",
       "HAVERING                  349.918338\n",
       "BARNET                    345.315582\n",
       "BRENT                     342.423280\n",
       "RICHMOND UPON THAMES      341.369176\n",
       "BARKING AND DAGENHAM      336.985507\n",
       "SUTTON                    333.806883\n",
       "EALING                    333.027668\n",
       "MERTON                    332.583612\n",
       "HOUNSLOW                  328.640704\n",
       "GREENWICH                 324.002107\n",
       "KINGSTON UPON THAMES      320.073375\n",
       "HARINGEY                  318.033058\n",
       "NEWHAM                    315.846701\n",
       "CROYDON                   314.576957\n",
       "WESTMINSTER               313.033319\n",
       "CAMDEN                    306.806543\n",
       "WALTHAM FOREST            301.576291\n",
       "CITY OF LONDON            301.269886\n",
       "SOUTHWARK                 299.875000\n",
       "HAMMERSMITH AND FULHAM    298.522648\n",
       "HACKNEY                   296.164179\n",
       "WANDSWORTH                295.310865\n",
       "LEWISHAM                  289.759542\n",
       "TOWER HAMLETS             283.219371\n",
       "ISLINGTON                 282.044492\n",
       "LAMBETH                   280.729150\n",
       "KENSINGTON AND CHELSEA    264.563853\n",
       "Name: first_pump_arriving_attendance_time, dtype: float64"
      ]
     },
     "execution_count": 26,
     "metadata": {},
     "output_type": "execute_result"
    }
   ],
   "source": [
    "response_times_by_borough = gr_calls_by_borough.mean()['first_pump_arriving_attendance_time'].sort_values(ascending = False)\n",
    "response_times_by_borough"
   ]
  }
 ],
 "metadata": {
  "anaconda-cloud": {},
  "kernelspec": {
   "display_name": "Python 3",
   "language": "python",
   "name": "python3"
  },
  "language_info": {
   "codemirror_mode": {
    "name": "ipython",
    "version": 3
   },
   "file_extension": ".py",
   "mimetype": "text/x-python",
   "name": "python",
   "nbconvert_exporter": "python",
   "pygments_lexer": "ipython3",
   "version": "3.5.3"
  }
 },
 "nbformat": 4,
 "nbformat_minor": 1
}
